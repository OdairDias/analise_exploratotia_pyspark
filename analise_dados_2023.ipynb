{
 "cells": [
  {
   "cell_type": "code",
   "execution_count": 1,
   "id": "662d900b",
   "metadata": {},
   "outputs": [
    {
     "name": "stdout",
     "output_type": "stream",
     "text": [
      "+------+------+--------------+--------------+--------------+--------------+-------------------+----------------+---------------+--------------+------------+---------+------------------------+--------------------+------+--------------------+----------+---+-----------------+-----------------+--------------+-----+--------------------+--------------------+-----------------------+--------------------+--------------------+-------------+---------+----------+-----------+------------+-------------+----+--------------+-----+-----------+---------+-------------+--------+-----------------+-----------+--------------+----------+-------------+----------+--------------+-----------------+--------------------+--------------+----------+------------------+-------------+-------------+\n",
      "|ANO_BO|NUM_BO|NUMERO_BOLETIM|   BO_INICIADO|    BO_EMITIDO|DATAOCORRENCIA|     HORAOCORRENCIA|PERIDOOCORRENCIA|DATACOMUNICACAO|DATAELABORACAO|  BO_AUTORIA|FLAGRANTE|NUMERO_BOLETIM_PRINCIPAL|          LOGRADOURO|NUMERO|              BAIRRO|    CIDADE| UF|         LATITUDE|        LONGITUDE|DESCRICAOLOCAL|EXAME|             SOLUCAO|      DELEGACIA_NOME|DELEGACIA_CIRCUNSCRICAO|             ESPECIE|             RUBRICA|DESDOBRAMENTO|   STATUS|TIPOPESSOA|VITIMAFATAL|NATURALIDADE|NACIONALIDADE|SEXO|DATANASCIMENTO|IDADE|ESTADOCIVIL|PROFISSAO|GRAUINSTRUCAO|CORCUTIS|NATUREZAVINCULADA|TIPOVINCULO|RELACIONAMENTO|PARENTESCO|PLACA_VEICULO|UF_VEICULO|CIDADE_VEICULO|DESCR_COR_VEICULO| DESCR_MARCA_VEICULO|ANO_FABRICACAO|ANO_MODELO|DESCR_TIPO_VEICULO|QUANT_CELULAR|MARCA_CELULAR|\n",
      "+------+------+--------------+--------------+--------------+--------------+-------------------+----------------+---------------+--------------+------------+---------+------------------------+--------------------+------+--------------------+----------+---+-----------------+-----------------+--------------+-----+--------------------+--------------------+-----------------------+--------------------+--------------------+-------------+---------+----------+-----------+------------+-------------+----+--------------+-----+-----------+---------+-------------+--------+-----------------+-----------+--------------+----------+-------------+----------+--------------+-----------------+--------------------+--------------+----------+------------------+-------------+-------------+\n",
      "|  2023|   792|      792/2023|1/2/2023 00:31|1/2/2023 00:31|     31/1/2023|2023-04-12 20:30:00|         A NOITE|      31/1/2023|1/2/2023 00:31|Desconhecida|      Não|                    null|            RUA MMDC|    62|             BUTANTA|   S.PAULO| SP|-23,5731696949999|    -46,705697496|   Via pública| null|ENCAMINHAMENTO DP...|89º D.P. JARDIM T...|       34º D.P. MORUMBI|Título II - Patri...|Roubo (art. 157) ...|         null|Consumado|      null|       null|        null|         null|null|          null| null|       null|     null|         null|    null|             null|       null|          null|      null|         null|      null|          null|             null|                null|             0|         0|              null|            1|        Apple|\n",
      "|  2023|   792|      792/2023|1/2/2023 00:31|1/2/2023 00:31|     31/1/2023|2023-04-12 20:30:00|         A NOITE|      31/1/2023|1/2/2023 00:31|Desconhecida|      Não|                    null|            RUA MMDC|    62|             BUTANTA|   S.PAULO| SP|-23,5731696949999|    -46,705697496|   Via pública| null|ENCAMINHAMENTO DP...|89º D.P. JARDIM T...|       34º D.P. MORUMBI|Título II - Patri...|Roubo (art. 157) ...|         null|Consumado|      null|       null|        null|         null|null|          null| null|       null|     null|         null|    null|             null|       null|          null|      null|         null|      null|          null|             null|                null|             0|         0|              null|            1|       Xiaomi|\n",
      "|  2023|   218|      218/2023|1/2/2023 01:09|1/2/2023 01:09|     31/1/2023|2023-04-12 21:30:00|         A NOITE|       1/2/2023|1/2/2023 01:09|Desconhecida|      Não|                    null|  Estrada do Baygton|   200|Loteamento Vale F...|EMBU-GUACU| SP|      -23,9009139|      -46,8660661|   Via pública| null|APRECIAÇÃO DO DEL...|  DEL.POL.EMBU-GUAÇU|     DEL.POL.EMBU-GUAÇU|Título II - Patri...|Roubo (art. 157) ...|         null|Consumado|      null|       null|        null|         null|null|          null| null|       null|     null|         null|    null|             null|       null|          null|      null|      GBJ6A34|        SP|    EMBU-GUACU|         Vermelho|TOYOTA/YARIS HB X...|          2018|      2019|         AUTOMOVEL|            1|      Samsung|\n",
      "|  2023|170509|   170509/2023|1/2/2023 02:51|1/2/2023 02:51|     31/1/2023|2023-04-12 12:30:00|         A TARDE|      31/1/2023|1/2/2023 02:51|Desconhecida|      Não|                    null|Avenida Antônio C...|   241|               Bangú|   S.ANDRE| SP|      -23,6492054|      -46,5257975|   Via pública| null|    BO PARA REGISTRO|DELEGACIA ELETRONICA|   02º D.P. SANTO ANDRÉ|Título II - Patri...|Roubo (art. 157) ...|         null|Consumado|      null|       null|        null|         null|null|          null| null|       null|     null|         null|    null|             null|       null|          null|      null|         null|      null|          null|             null|                null|             0|         0|              null|            1|      Samsung|\n",
      "|  2023| 19619|    19619/2023|1/2/2023 02:55|1/2/2023 02:55|     31/1/2023|2023-04-12 19:46:00|         A NOITE|       1/2/2023|1/2/2023 02:55|Desconhecida|      Não|                    null|        RUA AMAZONAS|   206|    CIDADE SÃO JORGE|   S.ANDRE| SP|-23,6730397083928|-46,4850652393214|   Via pública| null|ENCAMINHAMENTO DP...|DELEGACIA ELETRON...|   03º D.P. SANTO ANDRÉ|Título II - Patri...|Roubo (art. 157) ...|         null|Consumado|      null|       null|        null|         null|null|          null| null|       null|     null|         null|    null|             null|       null|          null|      null|         null|      null|          null|             null|                null|             0|         0|              null|            1|        Apple|\n",
      "+------+------+--------------+--------------+--------------+--------------+-------------------+----------------+---------------+--------------+------------+---------+------------------------+--------------------+------+--------------------+----------+---+-----------------+-----------------+--------------+-----+--------------------+--------------------+-----------------------+--------------------+--------------------+-------------+---------+----------+-----------+------------+-------------+----+--------------+-----+-----------+---------+-------------+--------+-----------------+-----------+--------------+----------+-------------+----------+--------------+-----------------+--------------------+--------------+----------+------------------+-------------+-------------+\n",
      "only showing top 5 rows\n",
      "\n"
     ]
    }
   ],
   "source": [
    "\n",
    "from pyspark.sql import SparkSession\n",
    "spark = SparkSession.builder.appName(\"dados_roubo_celulares_2023\").config('spark.master', 'local').getOrCreate()\n",
    "df = spark.read.load (r\"C:\\Users\\odair\\OneDrive\\Área de Trabalho\\usando_pyspark\\novo_dados_crim_2023d.csv\", format=\"csv\", sep= ',', inferSchema=\"True\", header=\"true\")\n",
    "df.show(5)\n"
   ]
  },
  {
   "cell_type": "code",
   "execution_count": 2,
   "id": "cfd9a5ce",
   "metadata": {},
   "outputs": [
    {
     "data": {
      "text/plain": [
       "DataFrame[ANO_BO: int, NUM_BO: int, NUMERO_BOLETIM: string, BO_INICIADO: string, BO_EMITIDO: string, DATAOCORRENCIA: string, HORAOCORRENCIA: timestamp, PERIDOOCORRENCIA: string, DATACOMUNICACAO: string, DATAELABORACAO: string, BO_AUTORIA: string, FLAGRANTE: string, NUMERO_BOLETIM_PRINCIPAL: string, LOGRADOURO: string, NUMERO: int, BAIRRO: string, CIDADE: string, UF: string, LATITUDE: string, LONGITUDE: string, DESCRICAOLOCAL: string, EXAME: string, SOLUCAO: string, DELEGACIA_NOME: string, DELEGACIA_CIRCUNSCRICAO: string, ESPECIE: string, RUBRICA: string, DESDOBRAMENTO: string, STATUS: string, TIPOPESSOA: string, VITIMAFATAL: string, NATURALIDADE: string, NACIONALIDADE: string, SEXO: string, DATANASCIMENTO: string, IDADE: int, ESTADOCIVIL: string, PROFISSAO: string, GRAUINSTRUCAO: string, CORCUTIS: string, NATUREZAVINCULADA: string, TIPOVINCULO: string, RELACIONAMENTO: string, PARENTESCO: string, PLACA_VEICULO: string, UF_VEICULO: string, CIDADE_VEICULO: string, DESCR_COR_VEICULO: string, DESCR_MARCA_VEICULO: string, ANO_FABRICACAO: int, ANO_MODELO: int, DESCR_TIPO_VEICULO: string, QUANT_CELULAR: int, MARCA_CELULAR: string]"
      ]
     },
     "metadata": {},
     "output_type": "display_data"
    }
   ],
   "source": [
    "display(df)"
   ]
  },
  {
   "cell_type": "code",
   "execution_count": 3,
   "id": "8414a5bb",
   "metadata": {},
   "outputs": [
    {
     "name": "stdout",
     "output_type": "stream",
     "text": [
      "root\n",
      " |-- ANO_BO: integer (nullable = true)\n",
      " |-- NUM_BO: integer (nullable = true)\n",
      " |-- NUMERO_BOLETIM: string (nullable = true)\n",
      " |-- BO_INICIADO: string (nullable = true)\n",
      " |-- BO_EMITIDO: string (nullable = true)\n",
      " |-- DATAOCORRENCIA: string (nullable = true)\n",
      " |-- HORAOCORRENCIA: timestamp (nullable = true)\n",
      " |-- PERIDOOCORRENCIA: string (nullable = true)\n",
      " |-- DATACOMUNICACAO: string (nullable = true)\n",
      " |-- DATAELABORACAO: string (nullable = true)\n",
      " |-- BO_AUTORIA: string (nullable = true)\n",
      " |-- FLAGRANTE: string (nullable = true)\n",
      " |-- NUMERO_BOLETIM_PRINCIPAL: string (nullable = true)\n",
      " |-- LOGRADOURO: string (nullable = true)\n",
      " |-- NUMERO: integer (nullable = true)\n",
      " |-- BAIRRO: string (nullable = true)\n",
      " |-- CIDADE: string (nullable = true)\n",
      " |-- UF: string (nullable = true)\n",
      " |-- LATITUDE: string (nullable = true)\n",
      " |-- LONGITUDE: string (nullable = true)\n",
      " |-- DESCRICAOLOCAL: string (nullable = true)\n",
      " |-- EXAME: string (nullable = true)\n",
      " |-- SOLUCAO: string (nullable = true)\n",
      " |-- DELEGACIA_NOME: string (nullable = true)\n",
      " |-- DELEGACIA_CIRCUNSCRICAO: string (nullable = true)\n",
      " |-- ESPECIE: string (nullable = true)\n",
      " |-- RUBRICA: string (nullable = true)\n",
      " |-- DESDOBRAMENTO: string (nullable = true)\n",
      " |-- STATUS: string (nullable = true)\n",
      " |-- TIPOPESSOA: string (nullable = true)\n",
      " |-- VITIMAFATAL: string (nullable = true)\n",
      " |-- NATURALIDADE: string (nullable = true)\n",
      " |-- NACIONALIDADE: string (nullable = true)\n",
      " |-- SEXO: string (nullable = true)\n",
      " |-- DATANASCIMENTO: string (nullable = true)\n",
      " |-- IDADE: integer (nullable = true)\n",
      " |-- ESTADOCIVIL: string (nullable = true)\n",
      " |-- PROFISSAO: string (nullable = true)\n",
      " |-- GRAUINSTRUCAO: string (nullable = true)\n",
      " |-- CORCUTIS: string (nullable = true)\n",
      " |-- NATUREZAVINCULADA: string (nullable = true)\n",
      " |-- TIPOVINCULO: string (nullable = true)\n",
      " |-- RELACIONAMENTO: string (nullable = true)\n",
      " |-- PARENTESCO: string (nullable = true)\n",
      " |-- PLACA_VEICULO: string (nullable = true)\n",
      " |-- UF_VEICULO: string (nullable = true)\n",
      " |-- CIDADE_VEICULO: string (nullable = true)\n",
      " |-- DESCR_COR_VEICULO: string (nullable = true)\n",
      " |-- DESCR_MARCA_VEICULO: string (nullable = true)\n",
      " |-- ANO_FABRICACAO: integer (nullable = true)\n",
      " |-- ANO_MODELO: integer (nullable = true)\n",
      " |-- DESCR_TIPO_VEICULO: string (nullable = true)\n",
      " |-- QUANT_CELULAR: integer (nullable = true)\n",
      " |-- MARCA_CELULAR: string (nullable = true)\n",
      "\n"
     ]
    }
   ],
   "source": [
    "df.printSchema()"
   ]
  },
  {
   "cell_type": "code",
   "execution_count": 4,
   "id": "f8d04557",
   "metadata": {
    "scrolled": true
   },
   "outputs": [
    {
     "name": "stdout",
     "output_type": "stream",
     "text": [
      "+--------------+----------------+------------+--------------------+--------------------+-------------+-------------+\n",
      "|DATAOCORRENCIA|PERIDOOCORRENCIA|      CIDADE|              BAIRRO|          LOGRADOURO|MARCA_CELULAR|QUANT_CELULAR|\n",
      "+--------------+----------------+------------+--------------------+--------------------+-------------+-------------+\n",
      "|     31/1/2023|         A NOITE|     S.PAULO|             BUTANTA|            RUA MMDC|        Apple|            1|\n",
      "|     31/1/2023|         A NOITE|     S.PAULO|             BUTANTA|            RUA MMDC|       Xiaomi|            1|\n",
      "|     31/1/2023|         A NOITE|  EMBU-GUACU|Loteamento Vale F...|  Estrada do Baygton|      Samsung|            1|\n",
      "|     31/1/2023|         A TARDE|     S.ANDRE|               Bangú|Avenida Antônio C...|      Samsung|            1|\n",
      "|     31/1/2023|         A NOITE|     S.ANDRE|    CIDADE SÃO JORGE|        RUA AMAZONAS|        Apple|            1|\n",
      "|      1/2/2023|    DE MADRUGADA|     JUNDIAI|   PARQUE INDUSTRIAL|AVENIDA JOSÉ ALVE...|      Samsung|            1|\n",
      "|     31/1/2023|      PELA MANHÃ|     S.PAULO| Vila Nova Conceição| Avenida Santo Amaro|        Apple|            1|\n",
      "|      1/2/2023|    DE MADRUGADA|     S.PAULO|            PEDREIRA|ESTRADA DO ALVARENGA|     Motorola|            1|\n",
      "|     31/1/2023|         A NOITE|     S.PAULO|           REPUBLICA|  AVENIDA RIO BRANCO|      Samsung|            1|\n",
      "|     31/1/2023|         A TARDE|     S.PAULO|        Vila Mariana|Rua Domingos de M...|       Outros|            1|\n",
      "|     28/1/2023|         A TARDE|     S.PAULO|             Tatuapé|     Rua Melo Freire|     Motorola|            1|\n",
      "|      1/2/2023|      PELA MANHÃ|  MOGI MIRIM|              CENTRO|       RUA DO TUCURA|      Samsung|            1|\n",
      "|     20/1/2023|         A TARDE|PRAIA GRANDE|               MIRIM|RUA TRINTA E UM D...|     Motorola|            1|\n",
      "|     31/1/2023|      PELA MANHÃ|      SUMARE|       JARDIM AMELIA|  RUA PEDRO CALEGARI|       Xiaomi|            1|\n",
      "|     27/1/2023|         A NOITE|      SUMARE|        JD DALL ORTO|Avenida Antonio P...|        Apple|            1|\n",
      "|      1/2/2023|      PELA MANHÃ|     S.PAULO|           AGUA RASA|      RUA CORUMBAIBA|        Apple|            1|\n",
      "|      1/2/2023|      PELA MANHÃ|     S.PAULO|           AGUA RASA|      RUA CORUMBAIBA|      Samsung|            1|\n",
      "|     30/1/2023|         A NOITE|       COTIA|        JD SÃO PAULO|      RUA PIRACICABA|      Samsung|            1|\n",
      "|     30/1/2023|         A NOITE|       COTIA|        JD SÃO PAULO|      RUA PIRACICABA|      Samsung|            1|\n",
      "|     30/1/2023|         A NOITE|       COTIA|        JD SÃO PAULO|      RUA PIRACICABA|      Samsung|            1|\n",
      "+--------------+----------------+------------+--------------------+--------------------+-------------+-------------+\n",
      "only showing top 20 rows\n",
      "\n"
     ]
    }
   ],
   "source": [
    "novo_dataset=df.select('DATAOCORRENCIA','PERIDOOCORRENCIA','CIDADE','BAIRRO','LOGRADOURO','MARCA_CELULAR','QUANT_CELULAR')\n",
    "novo_dataset.show()"
   ]
  },
  {
   "cell_type": "code",
   "execution_count": 5,
   "id": "0910a671",
   "metadata": {
    "scrolled": true
   },
   "outputs": [
    {
     "name": "stdout",
     "output_type": "stream",
     "text": [
      "+--------------+----------------+------+------+----------+-------------+-------------+\n",
      "|DATAOCORRENCIA|PERIDOOCORRENCIA|CIDADE|BAIRRO|LOGRADOURO|MARCA_CELULAR|QUANT_CELULAR|\n",
      "+--------------+----------------+------+------+----------+-------------+-------------+\n",
      "|             0|               0|    70|   244|       932|           10|           11|\n",
      "+--------------+----------------+------+------+----------+-------------+-------------+\n",
      "\n",
      "Tamanho DF: 17392\n"
     ]
    }
   ],
   "source": [
    "from pyspark.sql.functions import when, count,col\n",
    "\n",
    "# Contando as células nulas\n",
    "nulos = novo_dataset.select([count(when(col(c).isNull(), c)).alias(c) for c in novo_dataset.columns])\n",
    "\n",
    "# Exibindo os resultados\n",
    "nulos.show()\n",
    "\n",
    "tamanho = novo_dataset.count()\n",
    "print(\"Tamanho DF:\", tamanho)\n",
    "\n",
    "# Podemos verificar que temos mais ou menos 5% dos dados núlos no campo chamado Logradouro ou rua.\n"
   ]
  },
  {
   "cell_type": "code",
   "execution_count": 6,
   "id": "1faf202f",
   "metadata": {
    "scrolled": false
   },
   "outputs": [
    {
     "name": "stdout",
     "output_type": "stream",
     "text": [
      "+----------------+----------+\n",
      "|PERIDOOCORRENCIA|Frequência|\n",
      "+----------------+----------+\n",
      "|         A NOITE|      7344|\n",
      "|         A TARDE|      3599|\n",
      "|      PELA MANHÃ|      3294|\n",
      "|    DE MADRUGADA|      3098|\n",
      "| EM HORA INCERTA|        57|\n",
      "+----------------+----------+\n",
      "\n"
     ]
    }
   ],
   "source": [
    "periodo = novo_dataset.groupBy(novo_dataset['PERIDOOCORRENCIA']).agg({'PERIDOOCORRENCIA': 'count'}).withColumnRenamed('count(PERIDOOCORRENCIA)', 'Frequência').orderBy('Frequência', ascending=False).show()\n"
   ]
  },
  {
   "cell_type": "code",
   "execution_count": 7,
   "id": "00aacdef",
   "metadata": {
    "scrolled": false
   },
   "outputs": [
    {
     "name": "stdout",
     "output_type": "stream",
     "text": [
      "+--------------------+-----+\n",
      "|              CIDADE|count|\n",
      "+--------------------+-----+\n",
      "|             S.PAULO| 9368|\n",
      "| S.BERNARDO DO CAMPO|  635|\n",
      "|             S.ANDRE|  565|\n",
      "|           GUARULHOS|  521|\n",
      "|            CAMPINAS|  392|\n",
      "|             DIADEMA|  366|\n",
      "|              OSASCO|  296|\n",
      "|     ITAQUAQUECETUBA|  205|\n",
      "|              SUZANO|  193|\n",
      "|            SOROCABA|  188|\n",
      "|ITAPECERICA DA SERRA|  181|\n",
      "|                MAUA|  177|\n",
      "|              SUMARE|  176|\n",
      "|             GUARUJA|  172|\n",
      "|        PRAIA GRANDE|  170|\n",
      "|             JUNDIAI|  161|\n",
      "|      RIBEIRAO PRETO|  141|\n",
      "|     TABOAO DA SERRA|  126|\n",
      "|   S.JOSE DOS CAMPOS|  122|\n",
      "|         CARAPICUIBA|  121|\n",
      "+--------------------+-----+\n",
      "only showing top 20 rows\n",
      "\n"
     ]
    }
   ],
   "source": [
    "from pyspark.sql.functions import desc\n",
    "# análise das cidades com mais crimes\n",
    "top_cidades = novo_dataset.groupBy('CIDADE').count().orderBy(desc('count'))\n",
    "top_cidades.show()"
   ]
  },
  {
   "cell_type": "code",
   "execution_count": 8,
   "id": "07bc9a90",
   "metadata": {
    "scrolled": true
   },
   "outputs": [
    {
     "name": "stdout",
     "output_type": "stream",
     "text": [
      "+--------------------+-----+\n",
      "|              BAIRRO|count|\n",
      "+--------------------+-----+\n",
      "|           REPUBLICA|  374|\n",
      "|              CENTRO|  311|\n",
      "|              Centro|  309|\n",
      "|                null|  244|\n",
      "|       CAPAO REDONDO|  177|\n",
      "|         CAMPO LIMPO|  161|\n",
      "|          CONSOLACAO|  154|\n",
      "|           República|  132|\n",
      "|        VILA MARIANA|  126|\n",
      "|                  SE|  124|\n",
      "|          Consolação|  123|\n",
      "|           PINHEIROS|  123|\n",
      "|              GRAJAU|  119|\n",
      "|             JARAGUA|  116|\n",
      "|         JD SÃO LUIS|  112|\n",
      "|Centro Histórico ...|  105|\n",
      "|              SACOMA|  104|\n",
      "|                PARI|   98|\n",
      "|   CIDADE TIRADENTES|   98|\n",
      "|          ITAIM BIBI|   97|\n",
      "+--------------------+-----+\n",
      "only showing top 20 rows\n",
      "\n"
     ]
    }
   ],
   "source": [
    "# análise dos bairros com mais crimes\n",
    "top_bairros = novo_dataset.groupBy('BAIRRO').count().orderBy(desc('count'))\n",
    "top_bairros.show()"
   ]
  },
  {
   "cell_type": "code",
   "execution_count": 9,
   "id": "af82f89a",
   "metadata": {},
   "outputs": [
    {
     "name": "stdout",
     "output_type": "stream",
     "text": [
      "+--------------------+-----+\n",
      "|          LOGRADOURO|count|\n",
      "+--------------------+-----+\n",
      "|                null|  932|\n",
      "|Rodovia Régis Bit...|   91|\n",
      "|Rodovia President...|   84|\n",
      "|  PRAÇA DA REPUBLICA|   79|\n",
      "| Rodovia Fernão Dias|   73|\n",
      "|AVENIDA CARLOS DE...|   72|\n",
      "|         RUA AUGUSTA|   67|\n",
      "|Rua Doutor Humber...|   66|\n",
      "|RODOVIA PRESIDENT...|   64|\n",
      "|  Praça da República|   62|\n",
      "|   Rua da Consolação|   60|\n",
      "|  Rodovia Anhanguera|   47|\n",
      "|Avenida Cruzeiro ...|   45|\n",
      "|        RUA CANINANA|   42|\n",
      "|Avenida Brigadeir...|   41|\n",
      "|         PRAÇA DA SE|   41|\n",
      "|ACESSO RODOVIA CÔ...|   40|\n",
      "|         Rua Augusta|   39|\n",
      "|Estrada Portão do...|   37|\n",
      "|Ponte Edson Godoy...|   36|\n",
      "+--------------------+-----+\n",
      "only showing top 20 rows\n",
      "\n"
     ]
    }
   ],
   "source": [
    "# análise das ruas mais violentas\n",
    "top_ruas = novo_dataset.groupBy('LOGRADOURO').count().orderBy(desc('count'))\n",
    "top_ruas.show()"
   ]
  },
  {
   "cell_type": "code",
   "execution_count": 10,
   "id": "1bf91e68",
   "metadata": {},
   "outputs": [
    {
     "name": "stdout",
     "output_type": "stream",
     "text": [
      "+-------------+-----+\n",
      "|MARCA_CELULAR|count|\n",
      "+-------------+-----+\n",
      "|      Samsung| 6343|\n",
      "|     Motorola| 4098|\n",
      "|        Apple| 4085|\n",
      "|       Xiaomi| 1453|\n",
      "|       Outros|  659|\n",
      "|           LG|  405|\n",
      "|         Asus|  139|\n",
      "|     Positivo|   59|\n",
      "|        Nokia|   53|\n",
      "|   Multilaser|   37|\n",
      "|         Sony|   16|\n",
      "|         null|   10|\n",
      "|      Alcatel|    9|\n",
      "|       Huawei|    9|\n",
      "|      Siemens|    5|\n",
      "|       Lenovo|    3|\n",
      "|          BLU|    3|\n",
      "|          HPE|    2|\n",
      "|    Microsoft|    2|\n",
      "|      SAMSUNG|    1|\n",
      "+-------------+-----+\n",
      "only showing top 20 rows\n",
      "\n"
     ]
    }
   ],
   "source": [
    "#análise das marcas de celular mais roubadas\n",
    "top_quantidades = novo_dataset.groupBy('MARCA_CELULAR').count().orderBy(desc('count'))\n",
    "top_quantidades.show()"
   ]
  },
  {
   "cell_type": "code",
   "execution_count": 11,
   "id": "79620f3a",
   "metadata": {
    "scrolled": true
   },
   "outputs": [
    {
     "name": "stdout",
     "output_type": "stream",
     "text": [
      "+-------------+-----+\n",
      "|QUANT_CELULAR|count|\n",
      "+-------------+-----+\n",
      "|            1|16978|\n",
      "|            2|  288|\n",
      "|            3|   50|\n",
      "|            4|   45|\n",
      "|         null|   11|\n",
      "|            5|    9|\n",
      "|           10|    3|\n",
      "|           26|    2|\n",
      "|           12|    2|\n",
      "|            6|    1|\n",
      "|           41|    1|\n",
      "|           35|    1|\n",
      "|           23|    1|\n",
      "+-------------+-----+\n",
      "\n"
     ]
    }
   ],
   "source": [
    "#análise das marcas de celular mais roubadas\n",
    "top_marcas = novo_dataset.groupBy('QUANT_CELULAR').count().orderBy(desc('count'))\n",
    "top_marcas.show()"
   ]
  }
 ],
 "metadata": {
  "kernelspec": {
   "display_name": "Python 3 (ipykernel)",
   "language": "python",
   "name": "python3"
  },
  "language_info": {
   "codemirror_mode": {
    "name": "ipython",
    "version": 3
   },
   "file_extension": ".py",
   "mimetype": "text/x-python",
   "name": "python",
   "nbconvert_exporter": "python",
   "pygments_lexer": "ipython3",
   "version": "3.9.13"
  }
 },
 "nbformat": 4,
 "nbformat_minor": 5
}
